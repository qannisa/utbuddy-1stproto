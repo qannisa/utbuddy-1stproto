{
 "cells": [
  {
   "cell_type": "code",
   "execution_count": 1,
   "metadata": {},
   "outputs": [],
   "source": [
    "from langchain_chroma import Chroma\n",
    "from langchain_community.embeddings.sentence_transformer import (\n",
    "    SentenceTransformerEmbeddings,\n",
    ")\n",
    "from langchain.document_loaders import PyPDFLoader, DirectoryLoader\n",
    "from langchain.text_splitter import RecursiveCharacterTextSplitter"
   ]
  },
  {
   "cell_type": "code",
   "execution_count": 2,
   "metadata": {},
   "outputs": [],
   "source": [
    "data_path = \"data-proto1/\"\n",
    "loader = DirectoryLoader(data_path, glob=\"*.pdf\", loader_cls=PyPDFLoader)\n",
    "\n",
    "documents = loader.load()"
   ]
  },
  {
   "cell_type": "code",
   "execution_count": 10,
   "metadata": {},
   "outputs": [],
   "source": [
    "def text_splitter(documents):\n",
    "  text_split = RecursiveCharacterTextSplitter(chunk_size = 500, chunk_overlap = 50)\n",
    "  text_chunks = text_split.split_documents(documents)\n",
    "\n",
    "  return text_chunks"
   ]
  },
  {
   "cell_type": "code",
   "execution_count": 11,
   "metadata": {},
   "outputs": [
    {
     "name": "stdout",
     "output_type": "stream",
     "text": [
      "168\n"
     ]
    }
   ],
   "source": [
    "text_chunks2 = text_splitter(documents)\n",
    "\n",
    "print(len(text_chunks2))\n"
   ]
  },
  {
   "cell_type": "code",
   "execution_count": 12,
   "metadata": {},
   "outputs": [],
   "source": [
    "embedding_function = SentenceTransformerEmbeddings(model_name=\"all-MiniLM-L6-v2\")"
   ]
  },
  {
   "cell_type": "code",
   "execution_count": 13,
   "metadata": {},
   "outputs": [],
   "source": [
    "db = Chroma.from_documents(text_chunks2, embedding_function)"
   ]
  },
  {
   "cell_type": "code",
   "execution_count": 17,
   "metadata": {},
   "outputs": [],
   "source": [
    "query = \"Kapan United Tractors didirikan\"\n",
    "docs = db.similarity_search(query)"
   ]
  },
  {
   "cell_type": "code",
   "execution_count": 18,
   "metadata": {},
   "outputs": [
    {
     "name": "stdout",
     "output_type": "stream",
     "text": [
      "Melalui\n",
      "UTACTION,\n",
      "United\n",
      "Tractors\n",
      "menjalankan\n",
      "program\n",
      "bantuan\n",
      "penanggulangan\n",
      "bencana\n",
      "alam\n",
      "dalam\n",
      "beberapa\n",
      "tahap\n",
      "kepada\n",
      "masyarakat\n",
      "yang\n",
      "terkena\n",
      "musibah\n",
      "bencana\n",
      "alam.\n",
      "United\n",
      "Tractors\n",
      "juga\n",
      "memberikan\n",
      "asistensi\n",
      "dan\n",
      "bantuan\n",
      "kepada\n",
      "masyarakat\n",
      "yang\n",
      "terkena\n",
      "musibah\n",
      "di\n",
      "sekitar\n",
      "wilayah\n",
      "operasional,\n",
      "seperti\n",
      "kegiatan\n",
      "pasca\n",
      "bencana\n",
      "dalam\n",
      "bentuk\n",
      "penyediaan\n",
      "bahan\n",
      "kebutuhan\n",
      "dasar\n",
      "yang\n",
      "diperlukan.\n",
      "YAYASAN\n",
      "KARYA\n",
      "BAKTI\n",
      "UT\n",
      "Yayasan\n",
      "Karya\n",
      "Bakti\n",
      "United\n",
      "Tractors\n",
      "(YKBUT)\n",
      "didirikan\n",
      "oleh\n",
      "PT\n",
      "United\n",
      "Tractors\n",
      "Tbk\n",
      "(UT)\n",
      "pada\n",
      "27\n"
     ]
    }
   ],
   "source": [
    "print(docs[0].page_content)"
   ]
  },
  {
   "cell_type": "code",
   "execution_count": null,
   "metadata": {},
   "outputs": [],
   "source": []
  }
 ],
 "metadata": {
  "kernelspec": {
   "display_name": "utbuddy1",
   "language": "python",
   "name": "python3"
  },
  "language_info": {
   "codemirror_mode": {
    "name": "ipython",
    "version": 3
   },
   "file_extension": ".py",
   "mimetype": "text/x-python",
   "name": "python",
   "nbconvert_exporter": "python",
   "pygments_lexer": "ipython3",
   "version": "3.8.19"
  }
 },
 "nbformat": 4,
 "nbformat_minor": 2
}
